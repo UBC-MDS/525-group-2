{
 "cells": [
  {
   "cell_type": "markdown",
   "metadata": {},
   "source": [
    "# Task 3"
   ]
  },
  {
   "cell_type": "markdown",
   "metadata": {},
   "source": [
    "This notebook is part of Milestone 3, Question 3. You can work on this notebook on your laptop to develop your machine learning model using all the learnings from the previous courses. At the end of this notebook, when you are ready to train the model, you will need to obtain the hyperparameters from the hyperparameter tuning job that you will run in Milestone 3 Question 4 (i.e., the notebook named `Milestone3-Task4.ipynb`).\n",
    "\n",
    "PS: To speed up the process, you can test the model without the hyperparameters first. Once other team members obtain the hyperparameters, you can retrain the model using those hyperparameters and test it again."
   ]
  },
  {
   "cell_type": "code",
   "execution_count": 1,
   "metadata": {
    "execution": {
     "iopub.execute_input": "2023-04-13T21:39:22.960882Z",
     "iopub.status.busy": "2023-04-13T21:39:22.960665Z",
     "iopub.status.idle": "2023-04-13T21:39:24.391118Z",
     "shell.execute_reply": "2023-04-13T21:39:24.390202Z",
     "shell.execute_reply.started": "2023-04-13T21:39:22.960859Z"
    },
    "tags": []
   },
   "outputs": [
    {
     "name": "stdout",
     "output_type": "stream",
     "text": [
      "Defaulting to user installation because normal site-packages is not writeable\n",
      "Requirement already satisfied: joblib in /home/emr-notebook/.local/lib/python3.7/site-packages (1.2.0)\n",
      "Requirement already satisfied: scikit-learn in /home/emr-notebook/.local/lib/python3.7/site-packages (1.0.2)\n",
      "Requirement already satisfied: matplotlib in /home/emr-notebook/.local/lib/python3.7/site-packages (3.5.3)\n",
      "Requirement already satisfied: s3fs in /home/emr-notebook/.local/lib/python3.7/site-packages (2023.1.0)\n",
      "Requirement already satisfied: threadpoolctl>=2.0.0 in /home/emr-notebook/.local/lib/python3.7/site-packages (from scikit-learn) (3.1.0)\n",
      "Requirement already satisfied: numpy>=1.14.6 in /mnt/notebook-env/lib/python3.7/site-packages (from scikit-learn) (1.21.5)\n",
      "Requirement already satisfied: scipy>=1.1.0 in /home/emr-notebook/.local/lib/python3.7/site-packages (from scikit-learn) (1.7.3)\n",
      "Requirement already satisfied: kiwisolver>=1.0.1 in /home/emr-notebook/.local/lib/python3.7/site-packages (from matplotlib) (1.4.4)\n",
      "Requirement already satisfied: fonttools>=4.22.0 in /home/emr-notebook/.local/lib/python3.7/site-packages (from matplotlib) (4.38.0)\n",
      "Requirement already satisfied: packaging>=20.0 in /mnt/notebook-env/lib/python3.7/site-packages (from matplotlib) (22.0)\n",
      "Requirement already satisfied: python-dateutil>=2.7 in /mnt/notebook-env/lib/python3.7/site-packages (from matplotlib) (2.8.2)\n",
      "Requirement already satisfied: pyparsing>=2.2.1 in /mnt/notebook-env/lib/python3.7/site-packages (from matplotlib) (3.0.9)\n",
      "Requirement already satisfied: pillow>=6.2.0 in /mnt/notebook-env/lib/python3.7/site-packages (from matplotlib) (9.3.0)\n",
      "Requirement already satisfied: cycler>=0.10 in /home/emr-notebook/.local/lib/python3.7/site-packages (from matplotlib) (0.11.0)\n",
      "Requirement already satisfied: aiobotocore~=2.4.2 in /home/emr-notebook/.local/lib/python3.7/site-packages (from s3fs) (2.4.2)\n",
      "Requirement already satisfied: fsspec==2023.1.0 in /home/emr-notebook/.local/lib/python3.7/site-packages (from s3fs) (2023.1.0)\n",
      "Requirement already satisfied: aiohttp!=4.0.0a0,!=4.0.0a1 in /mnt/notebook-env/lib/python3.7/site-packages (from s3fs) (3.8.3)\n",
      "Requirement already satisfied: botocore<1.27.60,>=1.27.59 in /home/emr-notebook/.local/lib/python3.7/site-packages (from aiobotocore~=2.4.2->s3fs) (1.27.59)\n",
      "Requirement already satisfied: wrapt>=1.10.10 in /home/emr-notebook/.local/lib/python3.7/site-packages (from aiobotocore~=2.4.2->s3fs) (1.15.0)\n",
      "Requirement already satisfied: aioitertools>=0.5.1 in /home/emr-notebook/.local/lib/python3.7/site-packages (from aiobotocore~=2.4.2->s3fs) (0.11.0)\n",
      "Requirement already satisfied: asynctest==0.13.0 in /mnt/notebook-env/lib/python3.7/site-packages (from aiohttp!=4.0.0a0,!=4.0.0a1->s3fs) (0.13.0)\n",
      "Requirement already satisfied: async-timeout<5.0,>=4.0.0a3 in /mnt/notebook-env/lib/python3.7/site-packages (from aiohttp!=4.0.0a0,!=4.0.0a1->s3fs) (4.0.2)\n",
      "Requirement already satisfied: yarl<2.0,>=1.0 in /mnt/notebook-env/lib/python3.7/site-packages (from aiohttp!=4.0.0a0,!=4.0.0a1->s3fs) (1.8.1)\n",
      "Requirement already satisfied: aiosignal>=1.1.2 in /mnt/notebook-env/lib/python3.7/site-packages (from aiohttp!=4.0.0a0,!=4.0.0a1->s3fs) (1.2.0)\n",
      "Requirement already satisfied: multidict<7.0,>=4.5 in /mnt/notebook-env/lib/python3.7/site-packages (from aiohttp!=4.0.0a0,!=4.0.0a1->s3fs) (6.0.2)\n",
      "Requirement already satisfied: typing-extensions>=3.7.4 in /mnt/notebook-env/lib/python3.7/site-packages (from aiohttp!=4.0.0a0,!=4.0.0a1->s3fs) (4.4.0)\n",
      "Requirement already satisfied: frozenlist>=1.1.1 in /mnt/notebook-env/lib/python3.7/site-packages (from aiohttp!=4.0.0a0,!=4.0.0a1->s3fs) (1.3.3)\n",
      "Requirement already satisfied: charset-normalizer<3.0,>=2.0 in /mnt/notebook-env/lib/python3.7/site-packages (from aiohttp!=4.0.0a0,!=4.0.0a1->s3fs) (2.0.4)\n",
      "Requirement already satisfied: attrs>=17.3.0 in /mnt/notebook-env/lib/python3.7/site-packages (from aiohttp!=4.0.0a0,!=4.0.0a1->s3fs) (22.1.0)\n",
      "Requirement already satisfied: six>=1.5 in /mnt/notebook-env/lib/python3.7/site-packages (from python-dateutil>=2.7->matplotlib) (1.16.0)\n",
      "Requirement already satisfied: urllib3<1.27,>=1.25.4 in /mnt/notebook-env/lib/python3.7/site-packages (from botocore<1.27.60,>=1.27.59->aiobotocore~=2.4.2->s3fs) (1.26.14)\n",
      "Requirement already satisfied: jmespath<2.0.0,>=0.7.1 in /mnt/notebook-env/lib/python3.7/site-packages (from botocore<1.27.60,>=1.27.59->aiobotocore~=2.4.2->s3fs) (0.10.0)\n",
      "Requirement already satisfied: idna>=2.0 in /mnt/notebook-env/lib/python3.7/site-packages (from yarl<2.0,>=1.0->aiohttp!=4.0.0a0,!=4.0.0a1->s3fs) (3.4)\n",
      "Note: you may need to restart the kernel to use updated packages.\n"
     ]
    }
   ],
   "source": [
    "# I asked them to use their laptop so they already got all these packages from previous courses.\n",
    "%pip install joblib scikit-learn matplotlib s3fs"
   ]
  },
  {
   "cell_type": "markdown",
   "metadata": {},
   "source": [
    "# Imports"
   ]
  },
  {
   "cell_type": "code",
   "execution_count": 2,
   "metadata": {
    "execution": {
     "iopub.execute_input": "2023-04-13T21:39:24.392745Z",
     "iopub.status.busy": "2023-04-13T21:39:24.392478Z",
     "iopub.status.idle": "2023-04-13T21:39:25.450014Z",
     "shell.execute_reply": "2023-04-13T21:39:25.449329Z",
     "shell.execute_reply.started": "2023-04-13T21:39:24.392718Z"
    },
    "tags": []
   },
   "outputs": [],
   "source": [
    "import matplotlib.pyplot as plt\n",
    "import numpy as np\n",
    "import pandas as pd\n",
    "from joblib import dump, load\n",
    "from sklearn.ensemble import RandomForestRegressor\n",
    "from sklearn.metrics import mean_squared_error\n",
    "from sklearn.model_selection import train_test_split\n",
    "\n",
    "plt.style.use(\"ggplot\")\n",
    "plt.rcParams.update(\n",
    "    {\"font.size\": 16, \"axes.labelweight\": \"bold\", \"figure.figsize\": (8, 6)}\n",
    ")\n",
    "## add any other additional packages that you need. You are free to use any packages for vizualization."
   ]
  },
  {
   "cell_type": "markdown",
   "metadata": {},
   "source": [
    "## Part 1:"
   ]
  },
  {
   "cell_type": "markdown",
   "metadata": {},
   "source": [
    "Recall as a final goal of this project. We want to build and deploy ensemble machine learning models in the cloud, where features are outputs of different climate models and the target is the actual rainfall observation. In this milestone, you'll actually build these ensemble machine learning models in the cloud.  \n",
    "\n",
    "**Your tasks:**\n",
    "\n",
    "1. Read the data CSV from your s3 bucket. \n",
    "2. Drop rows with nans. \n",
    "3. Split the data into train (80%) and test (20%) portions with `random_state=123`. \n",
    "4. Carry out EDA of your choice on the train split. \n",
    "5. Train ensemble machine learning model using `RandomForestRegressor` and evaluate with metric of your choice (e.g., `RMSE`) by considering `Observed` as the target column. \n",
    "6. Discuss your results. Are you getting better results with ensemble models compared to the individual climate models? \n",
    "\n",
    "> Recall that individual columns in the data are predictions of different climate models. "
   ]
  },
  {
   "cell_type": "markdown",
   "metadata": {},
   "source": [
    "### Step 1 - Read the data CSV from your s3 bucket."
   ]
  },
  {
   "cell_type": "code",
   "execution_count": 3,
   "metadata": {
    "execution": {
     "iopub.execute_input": "2023-04-13T21:39:25.452970Z",
     "iopub.status.busy": "2023-04-13T21:39:25.452541Z",
     "iopub.status.idle": "2023-04-13T21:39:26.548530Z",
     "shell.execute_reply": "2023-04-13T21:39:26.547846Z",
     "shell.execute_reply.started": "2023-04-13T21:39:25.452944Z"
    }
   },
   "outputs": [],
   "source": [
    "## Remember by default it looks for credentials in home directory.\n",
    "## Make sure your updated credentials are in home directory\n",
    "## or pass credentials explicitly and pass as storage_options=aws_credentials (not a good idea)\n",
    "# aws_credentials = {\"key\": \"\",\"secret\": \"\",\"token\":\"\"}\n",
    "# replace with s3 path to your data\n",
    "df = pd.read_csv(\"s3://mds-s3-2-eric/output/ml_data_SYD.csv\", index_col=0, parse_dates=True)"
   ]
  },
  {
   "cell_type": "code",
   "execution_count": 4,
   "metadata": {
    "execution": {
     "iopub.execute_input": "2023-04-13T21:39:26.550442Z",
     "iopub.status.busy": "2023-04-13T21:39:26.549972Z",
     "iopub.status.idle": "2023-04-13T21:39:26.553059Z",
     "shell.execute_reply": "2023-04-13T21:39:26.552458Z",
     "shell.execute_reply.started": "2023-04-13T21:39:26.550416Z"
    }
   },
   "outputs": [],
   "source": [
    "## Use your ML skills to get from step 1 to step 6"
   ]
  },
  {
   "cell_type": "code",
   "execution_count": 5,
   "metadata": {
    "execution": {
     "iopub.execute_input": "2023-04-13T21:39:26.554105Z",
     "iopub.status.busy": "2023-04-13T21:39:26.553872Z",
     "iopub.status.idle": "2023-04-13T21:39:26.556970Z",
     "shell.execute_reply": "2023-04-13T21:39:26.556381Z",
     "shell.execute_reply.started": "2023-04-13T21:39:26.554084Z"
    }
   },
   "outputs": [],
   "source": [
    "# df = pd.read_csv(\"data/ml_data_SYD.csv\", index_col=0, parse_dates=True)"
   ]
  },
  {
   "cell_type": "code",
   "execution_count": 6,
   "metadata": {
    "execution": {
     "iopub.execute_input": "2023-04-13T21:39:26.558026Z",
     "iopub.status.busy": "2023-04-13T21:39:26.557810Z",
     "iopub.status.idle": "2023-04-13T21:39:26.581317Z",
     "shell.execute_reply": "2023-04-13T21:39:26.580763Z",
     "shell.execute_reply.started": "2023-04-13T21:39:26.558007Z"
    }
   },
   "outputs": [
    {
     "data": {
      "text/html": [
       "<div>\n",
       "<style scoped>\n",
       "    .dataframe tbody tr th:only-of-type {\n",
       "        vertical-align: middle;\n",
       "    }\n",
       "\n",
       "    .dataframe tbody tr th {\n",
       "        vertical-align: top;\n",
       "    }\n",
       "\n",
       "    .dataframe thead th {\n",
       "        text-align: right;\n",
       "    }\n",
       "</style>\n",
       "<table border=\"1\" class=\"dataframe\">\n",
       "  <thead>\n",
       "    <tr style=\"text-align: right;\">\n",
       "      <th></th>\n",
       "      <th>ACCESS-CM2</th>\n",
       "      <th>ACCESS-ESM1-5</th>\n",
       "      <th>AWI-ESM-1-1-LR</th>\n",
       "      <th>BCC-CSM2-MR</th>\n",
       "      <th>BCC-ESM1</th>\n",
       "      <th>CMCC-CM2-HR4</th>\n",
       "      <th>CMCC-CM2-SR5</th>\n",
       "      <th>CMCC-ESM2</th>\n",
       "      <th>CanESM5</th>\n",
       "      <th>EC-Earth3-Veg-LR</th>\n",
       "      <th>...</th>\n",
       "      <th>MPI-ESM-1-2-HAM</th>\n",
       "      <th>MPI-ESM1-2-HR</th>\n",
       "      <th>MPI-ESM1-2-LR</th>\n",
       "      <th>MRI-ESM2-0</th>\n",
       "      <th>NESM3</th>\n",
       "      <th>NorESM2-LM</th>\n",
       "      <th>NorESM2-MM</th>\n",
       "      <th>SAM0-UNICON</th>\n",
       "      <th>TaiESM1</th>\n",
       "      <th>observed_rainfall</th>\n",
       "    </tr>\n",
       "    <tr>\n",
       "      <th>time</th>\n",
       "      <th></th>\n",
       "      <th></th>\n",
       "      <th></th>\n",
       "      <th></th>\n",
       "      <th></th>\n",
       "      <th></th>\n",
       "      <th></th>\n",
       "      <th></th>\n",
       "      <th></th>\n",
       "      <th></th>\n",
       "      <th></th>\n",
       "      <th></th>\n",
       "      <th></th>\n",
       "      <th></th>\n",
       "      <th></th>\n",
       "      <th></th>\n",
       "      <th></th>\n",
       "      <th></th>\n",
       "      <th></th>\n",
       "      <th></th>\n",
       "      <th></th>\n",
       "    </tr>\n",
       "  </thead>\n",
       "  <tbody>\n",
       "    <tr>\n",
       "      <th>1889-01-01</th>\n",
       "      <td>0.040427</td>\n",
       "      <td>1.814552</td>\n",
       "      <td>35.579336</td>\n",
       "      <td>4.268112e+00</td>\n",
       "      <td>1.107466e-03</td>\n",
       "      <td>11.410537</td>\n",
       "      <td>3.322009e-08</td>\n",
       "      <td>2.668800</td>\n",
       "      <td>1.321215</td>\n",
       "      <td>1.515293</td>\n",
       "      <td>...</td>\n",
       "      <td>4.244226e-13</td>\n",
       "      <td>1.390174e-13</td>\n",
       "      <td>6.537884e-05</td>\n",
       "      <td>3.445495e-06</td>\n",
       "      <td>1.576096e+01</td>\n",
       "      <td>4.759651e-05</td>\n",
       "      <td>2.451075</td>\n",
       "      <td>0.221324</td>\n",
       "      <td>2.257933</td>\n",
       "      <td>0.006612</td>\n",
       "    </tr>\n",
       "    <tr>\n",
       "      <th>1889-01-02</th>\n",
       "      <td>0.073777</td>\n",
       "      <td>0.303965</td>\n",
       "      <td>4.596520</td>\n",
       "      <td>1.190141e+00</td>\n",
       "      <td>1.015323e-04</td>\n",
       "      <td>4.014984</td>\n",
       "      <td>1.312700e+00</td>\n",
       "      <td>0.946211</td>\n",
       "      <td>2.788724</td>\n",
       "      <td>4.771375</td>\n",
       "      <td>...</td>\n",
       "      <td>4.409552e+00</td>\n",
       "      <td>1.222283e-01</td>\n",
       "      <td>1.049131e-13</td>\n",
       "      <td>4.791993e-09</td>\n",
       "      <td>3.675510e-01</td>\n",
       "      <td>4.350863e-01</td>\n",
       "      <td>0.477231</td>\n",
       "      <td>3.757179</td>\n",
       "      <td>2.287381</td>\n",
       "      <td>0.090422</td>\n",
       "    </tr>\n",
       "    <tr>\n",
       "      <th>1889-01-03</th>\n",
       "      <td>0.232656</td>\n",
       "      <td>0.019976</td>\n",
       "      <td>5.927467</td>\n",
       "      <td>1.003845e-09</td>\n",
       "      <td>1.760345e-05</td>\n",
       "      <td>9.660565</td>\n",
       "      <td>9.103720e+00</td>\n",
       "      <td>0.431999</td>\n",
       "      <td>0.003672</td>\n",
       "      <td>4.233980</td>\n",
       "      <td>...</td>\n",
       "      <td>2.269300e-01</td>\n",
       "      <td>3.762301e-01</td>\n",
       "      <td>9.758706e-14</td>\n",
       "      <td>6.912302e-01</td>\n",
       "      <td>1.562869e-01</td>\n",
       "      <td>9.561101e+00</td>\n",
       "      <td>0.023083</td>\n",
       "      <td>0.253357</td>\n",
       "      <td>1.199909</td>\n",
       "      <td>1.401452</td>\n",
       "    </tr>\n",
       "    <tr>\n",
       "      <th>1889-01-04</th>\n",
       "      <td>0.911319</td>\n",
       "      <td>13.623777</td>\n",
       "      <td>8.029624</td>\n",
       "      <td>8.225225e-02</td>\n",
       "      <td>1.808932e-01</td>\n",
       "      <td>3.951528</td>\n",
       "      <td>1.317160e+01</td>\n",
       "      <td>0.368693</td>\n",
       "      <td>0.013578</td>\n",
       "      <td>15.252495</td>\n",
       "      <td>...</td>\n",
       "      <td>2.344586e-02</td>\n",
       "      <td>4.214019e-01</td>\n",
       "      <td>7.060915e-03</td>\n",
       "      <td>3.835721e-02</td>\n",
       "      <td>2.472226e-07</td>\n",
       "      <td>5.301038e-01</td>\n",
       "      <td>0.002699</td>\n",
       "      <td>2.185454</td>\n",
       "      <td>2.106737</td>\n",
       "      <td>14.869798</td>\n",
       "    </tr>\n",
       "    <tr>\n",
       "      <th>1889-01-05</th>\n",
       "      <td>0.698013</td>\n",
       "      <td>0.021048</td>\n",
       "      <td>2.132686</td>\n",
       "      <td>2.496841e+00</td>\n",
       "      <td>4.708019e-09</td>\n",
       "      <td>2.766362</td>\n",
       "      <td>1.822940e+01</td>\n",
       "      <td>0.339267</td>\n",
       "      <td>0.002468</td>\n",
       "      <td>11.920356</td>\n",
       "      <td>...</td>\n",
       "      <td>4.270161e-13</td>\n",
       "      <td>1.879692e-01</td>\n",
       "      <td>4.504985e+00</td>\n",
       "      <td>3.506923e-07</td>\n",
       "      <td>1.949792e-13</td>\n",
       "      <td>1.460928e-10</td>\n",
       "      <td>0.001026</td>\n",
       "      <td>2.766507</td>\n",
       "      <td>1.763335</td>\n",
       "      <td>0.467628</td>\n",
       "    </tr>\n",
       "  </tbody>\n",
       "</table>\n",
       "<p>5 rows × 26 columns</p>\n",
       "</div>"
      ],
      "text/plain": [
       "            ACCESS-CM2  ACCESS-ESM1-5  AWI-ESM-1-1-LR   BCC-CSM2-MR  \\\n",
       "time                                                                  \n",
       "1889-01-01    0.040427       1.814552       35.579336  4.268112e+00   \n",
       "1889-01-02    0.073777       0.303965        4.596520  1.190141e+00   \n",
       "1889-01-03    0.232656       0.019976        5.927467  1.003845e-09   \n",
       "1889-01-04    0.911319      13.623777        8.029624  8.225225e-02   \n",
       "1889-01-05    0.698013       0.021048        2.132686  2.496841e+00   \n",
       "\n",
       "                BCC-ESM1  CMCC-CM2-HR4  CMCC-CM2-SR5  CMCC-ESM2   CanESM5  \\\n",
       "time                                                                        \n",
       "1889-01-01  1.107466e-03     11.410537  3.322009e-08   2.668800  1.321215   \n",
       "1889-01-02  1.015323e-04      4.014984  1.312700e+00   0.946211  2.788724   \n",
       "1889-01-03  1.760345e-05      9.660565  9.103720e+00   0.431999  0.003672   \n",
       "1889-01-04  1.808932e-01      3.951528  1.317160e+01   0.368693  0.013578   \n",
       "1889-01-05  4.708019e-09      2.766362  1.822940e+01   0.339267  0.002468   \n",
       "\n",
       "            EC-Earth3-Veg-LR  ...  MPI-ESM-1-2-HAM  MPI-ESM1-2-HR  \\\n",
       "time                          ...                                   \n",
       "1889-01-01          1.515293  ...     4.244226e-13   1.390174e-13   \n",
       "1889-01-02          4.771375  ...     4.409552e+00   1.222283e-01   \n",
       "1889-01-03          4.233980  ...     2.269300e-01   3.762301e-01   \n",
       "1889-01-04         15.252495  ...     2.344586e-02   4.214019e-01   \n",
       "1889-01-05         11.920356  ...     4.270161e-13   1.879692e-01   \n",
       "\n",
       "            MPI-ESM1-2-LR    MRI-ESM2-0         NESM3    NorESM2-LM  \\\n",
       "time                                                                  \n",
       "1889-01-01   6.537884e-05  3.445495e-06  1.576096e+01  4.759651e-05   \n",
       "1889-01-02   1.049131e-13  4.791993e-09  3.675510e-01  4.350863e-01   \n",
       "1889-01-03   9.758706e-14  6.912302e-01  1.562869e-01  9.561101e+00   \n",
       "1889-01-04   7.060915e-03  3.835721e-02  2.472226e-07  5.301038e-01   \n",
       "1889-01-05   4.504985e+00  3.506923e-07  1.949792e-13  1.460928e-10   \n",
       "\n",
       "            NorESM2-MM  SAM0-UNICON   TaiESM1  observed_rainfall  \n",
       "time                                                              \n",
       "1889-01-01    2.451075     0.221324  2.257933           0.006612  \n",
       "1889-01-02    0.477231     3.757179  2.287381           0.090422  \n",
       "1889-01-03    0.023083     0.253357  1.199909           1.401452  \n",
       "1889-01-04    0.002699     2.185454  2.106737          14.869798  \n",
       "1889-01-05    0.001026     2.766507  1.763335           0.467628  \n",
       "\n",
       "[5 rows x 26 columns]"
      ]
     },
     "execution_count": 6,
     "metadata": {},
     "output_type": "execute_result"
    }
   ],
   "source": [
    "df.head()"
   ]
  },
  {
   "cell_type": "code",
   "execution_count": 7,
   "metadata": {
    "execution": {
     "iopub.execute_input": "2023-04-13T21:39:26.582263Z",
     "iopub.status.busy": "2023-04-13T21:39:26.582053Z",
     "iopub.status.idle": "2023-04-13T21:39:26.587462Z",
     "shell.execute_reply": "2023-04-13T21:39:26.586871Z",
     "shell.execute_reply.started": "2023-04-13T21:39:26.582244Z"
    }
   },
   "outputs": [
    {
     "data": {
      "text/plain": [
       "(46020, 26)"
      ]
     },
     "execution_count": 7,
     "metadata": {},
     "output_type": "execute_result"
    }
   ],
   "source": [
    "df.shape"
   ]
  },
  {
   "cell_type": "markdown",
   "metadata": {},
   "source": [
    "### Step 2 - Drop rows with nans."
   ]
  },
  {
   "cell_type": "code",
   "execution_count": 8,
   "metadata": {
    "execution": {
     "iopub.execute_input": "2023-04-13T21:39:26.588487Z",
     "iopub.status.busy": "2023-04-13T21:39:26.588264Z",
     "iopub.status.idle": "2023-04-13T21:39:26.599653Z",
     "shell.execute_reply": "2023-04-13T21:39:26.599067Z",
     "shell.execute_reply.started": "2023-04-13T21:39:26.588462Z"
    }
   },
   "outputs": [
    {
     "data": {
      "text/plain": [
       "(45989, 26)"
      ]
     },
     "execution_count": 8,
     "metadata": {},
     "output_type": "execute_result"
    }
   ],
   "source": [
    "df = df.dropna()\n",
    "\n",
    "df.shape"
   ]
  },
  {
   "cell_type": "markdown",
   "metadata": {},
   "source": [
    "### Step 3 - Split the data into train (80%) and test (20%) portions with random_state=123."
   ]
  },
  {
   "cell_type": "code",
   "execution_count": 9,
   "metadata": {
    "execution": {
     "iopub.execute_input": "2023-04-13T21:39:26.600650Z",
     "iopub.status.busy": "2023-04-13T21:39:26.600439Z",
     "iopub.status.idle": "2023-04-13T21:39:26.617024Z",
     "shell.execute_reply": "2023-04-13T21:39:26.616439Z",
     "shell.execute_reply.started": "2023-04-13T21:39:26.600631Z"
    },
    "tags": []
   },
   "outputs": [
    {
     "data": {
      "text/plain": [
       "(36791, 26)"
      ]
     },
     "execution_count": 9,
     "metadata": {},
     "output_type": "execute_result"
    }
   ],
   "source": [
    "train_df, test_df = train_test_split(df, test_size=0.2, random_state=123)\n",
    "\n",
    "X_train, y_train = train_df.drop(columns=\"observed_rainfall\"), train_df[\"observed_rainfall\"]\n",
    "X_test, y_test = test_df.drop(columns=\"observed_rainfall\"), test_df[\"observed_rainfall\"]\n",
    "\n",
    "train_df.shape"
   ]
  },
  {
   "cell_type": "markdown",
   "metadata": {},
   "source": [
    "### Step 4 - Carry out EDA of your choice on the train split."
   ]
  },
  {
   "cell_type": "code",
   "execution_count": 10,
   "metadata": {
    "execution": {
     "iopub.execute_input": "2023-04-13T21:39:26.618039Z",
     "iopub.status.busy": "2023-04-13T21:39:26.617822Z",
     "iopub.status.idle": "2023-04-13T21:39:26.807910Z",
     "shell.execute_reply": "2023-04-13T21:39:26.807222Z",
     "shell.execute_reply.started": "2023-04-13T21:39:26.618018Z"
    }
   },
   "outputs": [
    {
     "data": {
      "image/png": "[encoded data removed]",
      "text/plain": [
       "<Figure size 800x600 with 1 Axes>"
      ]
     },
     "metadata": {},
     "output_type": "display_data"
    }
   ],
   "source": [
    "train_df['observed_rainfall'].plot.box()\n",
    "plt.title(\"Observed Rainfall Boxplot\")\n",
    "plt.ylabel(\"Rainfall\")\n",
    "plt.show()"
   ]
  },
  {
   "cell_type": "markdown",
   "metadata": {},
   "source": [
    "**Observation**: The boxplot suggest there is a lot of outliers with rainfall above 10 cm, while most of the rainfall is below 10 cm."
   ]
  },
  {
   "cell_type": "code",
   "execution_count": 11,
   "metadata": {
    "execution": {
     "iopub.execute_input": "2023-04-13T21:39:26.809049Z",
     "iopub.status.busy": "2023-04-13T21:39:26.808813Z",
     "iopub.status.idle": "2023-04-13T21:39:27.011653Z",
     "shell.execute_reply": "2023-04-13T21:39:27.011008Z",
     "shell.execute_reply.started": "2023-04-13T21:39:26.809026Z"
    }
   },
   "outputs": [
    {
     "data": {
      "image/png": "[encoded data removed]",
      "text/plain": [
       "<Figure size 800x600 with 1 Axes>"
      ]
     },
     "metadata": {},
     "output_type": "display_data"
    }
   ],
   "source": [
    "train_df.resample('Y').mean().plot(y=\"observed_rainfall\", title=\"Annual Mean Observed Rainfall\", color=\"blue\", linewidth=2, legend=False)\n",
    "plt.xlabel(\"Year\")\n",
    "plt.ylabel(\"Mean Observed Rainfall\")\n",
    "plt.show()"
   ]
  },
  {
   "cell_type": "markdown",
   "metadata": {},
   "source": [
    "**Observation**: The mean observed rainfall is ranging from 1 to 6, suggesting low rainfall in Sydney."
   ]
  },
  {
   "cell_type": "code",
   "execution_count": 12,
   "metadata": {
    "execution": {
     "iopub.execute_input": "2023-04-13T21:39:27.012790Z",
     "iopub.status.busy": "2023-04-13T21:39:27.012558Z",
     "iopub.status.idle": "2023-04-13T21:39:27.086704Z",
     "shell.execute_reply": "2023-04-13T21:39:27.086033Z",
     "shell.execute_reply.started": "2023-04-13T21:39:27.012768Z"
    }
   },
   "outputs": [],
   "source": [
    "plt.hist(train_df['observed_rainfall'], bins = 10)\n",
    "plt.xlabel('Observed Rainfall')\n",
    "plt.ylabel('Count')\n",
    "plt.title('Observed Rainfall Histogram');"
   ]
  },
  {
   "cell_type": "markdown",
   "metadata": {},
   "source": [
    "**Observation**: The distribution of observed rainfall in Sydney is right-skewed. Most of the observed rainfalls are below 25 cm."
   ]
  },
  {
   "cell_type": "markdown",
   "metadata": {},
   "source": [
    "### Step 5 - Train ensemble machine learning model using RandomForestRegressor and evaluate with metric of your choice (e.g., RMSE) by considering Observed as the target column."
   ]
  },
  {
   "cell_type": "code",
   "execution_count": 13,
   "metadata": {
    "execution": {
     "iopub.execute_input": "2023-04-13T21:39:27.087873Z",
     "iopub.status.busy": "2023-04-13T21:39:27.087619Z",
     "iopub.status.idle": "2023-04-13T21:42:16.128997Z",
     "shell.execute_reply": "2023-04-13T21:42:16.128377Z",
     "shell.execute_reply.started": "2023-04-13T21:39:27.087848Z"
    }
   },
   "outputs": [
    {
     "name": "stdout",
     "output_type": "stream",
     "text": [
      "CPU times: user 2min 48s, sys: 147 ms, total: 2min 49s\n",
      "Wall time: 2min 49s\n"
     ]
    },
    {
     "data": {
      "text/plain": [
       "RandomForestRegressor(random_state=123)"
      ]
     },
     "execution_count": 13,
     "metadata": {},
     "output_type": "execute_result"
    }
   ],
   "source": [
    "%%time\n",
    "model = RandomForestRegressor(random_state=123)\n",
    "model.fit(X_train, y_train)"
   ]
  },
  {
   "cell_type": "code",
   "execution_count": 14,
   "metadata": {
    "execution": {
     "iopub.execute_input": "2023-04-13T21:42:16.130077Z",
     "iopub.status.busy": "2023-04-13T21:42:16.129856Z",
     "iopub.status.idle": "2023-04-13T21:42:17.826159Z",
     "shell.execute_reply": "2023-04-13T21:42:17.825515Z",
     "shell.execute_reply.started": "2023-04-13T21:42:16.130056Z"
    }
   },
   "outputs": [
    {
     "name": "stdout",
     "output_type": "stream",
     "text": [
      "Train RMSE: 3.11\n",
      " Test RMSE: 8.86\n"
     ]
    }
   ],
   "source": [
    "print(\n",
    "    f\"Train RMSE: {mean_squared_error(y_train, model.predict(X_train), squared=False):.2f}\"\n",
    ")\n",
    "print(\n",
    "    f\" Test RMSE: {mean_squared_error(y_test, model.predict(X_test), squared=False):.2f}\"\n",
    ")"
   ]
  },
  {
   "cell_type": "markdown",
   "metadata": {},
   "source": [
    "### Step 6 - Discuss your results. Are you getting better results with ensemble models compared to the individual climate models?"
   ]
  },
  {
   "cell_type": "code",
   "execution_count": 15,
   "metadata": {
    "execution": {
     "iopub.execute_input": "2023-04-13T21:42:17.827320Z",
     "iopub.status.busy": "2023-04-13T21:42:17.826979Z",
     "iopub.status.idle": "2023-04-13T21:42:17.860523Z",
     "shell.execute_reply": "2023-04-13T21:42:17.859880Z",
     "shell.execute_reply.started": "2023-04-13T21:42:17.827296Z"
    },
    "tags": []
   },
   "outputs": [
    {
     "name": "stdout",
     "output_type": "stream",
     "text": [
      "CPU times: user 24.4 ms, sys: 2 µs, total: 24.4 ms\n",
      "Wall time: 23.6 ms\n"
     ]
    },
    {
     "data": {
      "text/html": [
       "<div>\n",
       "<style scoped>\n",
       "    .dataframe tbody tr th:only-of-type {\n",
       "        vertical-align: middle;\n",
       "    }\n",
       "\n",
       "    .dataframe tbody tr th {\n",
       "        vertical-align: top;\n",
       "    }\n",
       "\n",
       "    .dataframe thead th {\n",
       "        text-align: right;\n",
       "    }\n",
       "</style>\n",
       "<table border=\"1\" class=\"dataframe\">\n",
       "  <thead>\n",
       "    <tr style=\"text-align: right;\">\n",
       "      <th></th>\n",
       "      <th>Train RMSE</th>\n",
       "      <th>RMSE</th>\n",
       "    </tr>\n",
       "    <tr>\n",
       "      <th>Model</th>\n",
       "      <th></th>\n",
       "      <th></th>\n",
       "    </tr>\n",
       "  </thead>\n",
       "  <tbody>\n",
       "    <tr>\n",
       "      <th>KIOST-ESM</th>\n",
       "      <td>9.196532</td>\n",
       "      <td>9.600480</td>\n",
       "    </tr>\n",
       "    <tr>\n",
       "      <th>FGOALS-g3</th>\n",
       "      <td>9.284867</td>\n",
       "      <td>9.687788</td>\n",
       "    </tr>\n",
       "    <tr>\n",
       "      <th>MRI-ESM2-0</th>\n",
       "      <td>9.609047</td>\n",
       "      <td>9.922795</td>\n",
       "    </tr>\n",
       "    <tr>\n",
       "      <th>MPI-ESM1-2-HR</th>\n",
       "      <td>9.489925</td>\n",
       "      <td>9.969823</td>\n",
       "    </tr>\n",
       "    <tr>\n",
       "      <th>NESM3</th>\n",
       "      <td>9.371897</td>\n",
       "      <td>9.978137</td>\n",
       "    </tr>\n",
       "    <tr>\n",
       "      <th>MPI-ESM1-2-LR</th>\n",
       "      <td>9.681899</td>\n",
       "      <td>10.260886</td>\n",
       "    </tr>\n",
       "    <tr>\n",
       "      <th>NorESM2-LM</th>\n",
       "      <td>9.918216</td>\n",
       "      <td>10.410145</td>\n",
       "    </tr>\n",
       "    <tr>\n",
       "      <th>EC-Earth3-Veg-LR</th>\n",
       "      <td>9.902149</td>\n",
       "      <td>10.453606</td>\n",
       "    </tr>\n",
       "    <tr>\n",
       "      <th>GFDL-CM4</th>\n",
       "      <td>9.889638</td>\n",
       "      <td>10.511682</td>\n",
       "    </tr>\n",
       "    <tr>\n",
       "      <th>BCC-ESM1</th>\n",
       "      <td>10.071200</td>\n",
       "      <td>10.615578</td>\n",
       "    </tr>\n",
       "    <tr>\n",
       "      <th>CMCC-CM2-HR4</th>\n",
       "      <td>10.353439</td>\n",
       "      <td>10.643204</td>\n",
       "    </tr>\n",
       "    <tr>\n",
       "      <th>ACCESS-ESM1-5</th>\n",
       "      <td>10.643536</td>\n",
       "      <td>10.695305</td>\n",
       "    </tr>\n",
       "    <tr>\n",
       "      <th>BCC-CSM2-MR</th>\n",
       "      <td>10.294775</td>\n",
       "      <td>10.761381</td>\n",
       "    </tr>\n",
       "    <tr>\n",
       "      <th>MPI-ESM-1-2-HAM</th>\n",
       "      <td>10.615042</td>\n",
       "      <td>10.932004</td>\n",
       "    </tr>\n",
       "    <tr>\n",
       "      <th>NorESM2-MM</th>\n",
       "      <td>10.683340</td>\n",
       "      <td>10.939740</td>\n",
       "    </tr>\n",
       "    <tr>\n",
       "      <th>AWI-ESM-1-1-LR</th>\n",
       "      <td>10.876956</td>\n",
       "      <td>10.996616</td>\n",
       "    </tr>\n",
       "    <tr>\n",
       "      <th>ACCESS-CM2</th>\n",
       "      <td>10.567243</td>\n",
       "      <td>11.038999</td>\n",
       "    </tr>\n",
       "    <tr>\n",
       "      <th>CanESM5</th>\n",
       "      <td>10.571301</td>\n",
       "      <td>11.151318</td>\n",
       "    </tr>\n",
       "    <tr>\n",
       "      <th>CMCC-ESM2</th>\n",
       "      <td>10.713240</td>\n",
       "      <td>11.246493</td>\n",
       "    </tr>\n",
       "    <tr>\n",
       "      <th>MIROC6</th>\n",
       "      <td>11.235601</td>\n",
       "      <td>11.352976</td>\n",
       "    </tr>\n",
       "    <tr>\n",
       "      <th>INM-CM4-8</th>\n",
       "      <td>11.088450</td>\n",
       "      <td>11.451635</td>\n",
       "    </tr>\n",
       "    <tr>\n",
       "      <th>CMCC-CM2-SR5</th>\n",
       "      <td>10.935517</td>\n",
       "      <td>11.480614</td>\n",
       "    </tr>\n",
       "    <tr>\n",
       "      <th>TaiESM1</th>\n",
       "      <td>11.008567</td>\n",
       "      <td>11.528083</td>\n",
       "    </tr>\n",
       "    <tr>\n",
       "      <th>SAM0-UNICON</th>\n",
       "      <td>11.318714</td>\n",
       "      <td>11.678749</td>\n",
       "    </tr>\n",
       "    <tr>\n",
       "      <th>INM-CM5-0</th>\n",
       "      <td>11.624718</td>\n",
       "      <td>12.250223</td>\n",
       "    </tr>\n",
       "  </tbody>\n",
       "</table>\n",
       "</div>"
      ],
      "text/plain": [
       "                  Train RMSE       RMSE\n",
       "Model                                  \n",
       "KIOST-ESM           9.196532   9.600480\n",
       "FGOALS-g3           9.284867   9.687788\n",
       "MRI-ESM2-0          9.609047   9.922795\n",
       "MPI-ESM1-2-HR       9.489925   9.969823\n",
       "NESM3               9.371897   9.978137\n",
       "MPI-ESM1-2-LR       9.681899  10.260886\n",
       "NorESM2-LM          9.918216  10.410145\n",
       "EC-Earth3-Veg-LR    9.902149  10.453606\n",
       "GFDL-CM4            9.889638  10.511682\n",
       "BCC-ESM1           10.071200  10.615578\n",
       "CMCC-CM2-HR4       10.353439  10.643204\n",
       "ACCESS-ESM1-5      10.643536  10.695305\n",
       "BCC-CSM2-MR        10.294775  10.761381\n",
       "MPI-ESM-1-2-HAM    10.615042  10.932004\n",
       "NorESM2-MM         10.683340  10.939740\n",
       "AWI-ESM-1-1-LR     10.876956  10.996616\n",
       "ACCESS-CM2         10.567243  11.038999\n",
       "CanESM5            10.571301  11.151318\n",
       "CMCC-ESM2          10.713240  11.246493\n",
       "MIROC6             11.235601  11.352976\n",
       "INM-CM4-8          11.088450  11.451635\n",
       "CMCC-CM2-SR5       10.935517  11.480614\n",
       "TaiESM1            11.008567  11.528083\n",
       "SAM0-UNICON        11.318714  11.678749\n",
       "INM-CM5-0          11.624718  12.250223"
      ]
     },
     "execution_count": 15,
     "metadata": {},
     "output_type": "execute_result"
    }
   ],
   "source": [
    "%%time\n",
    "rmse_df = pd.DataFrame({\n",
    "    \"Model\": X_test.columns,\n",
    "    \"Train RMSE\" : [mean_squared_error(y_train, X_train[column], squared=False) for column in X_train.columns],\n",
    "    \"RMSE\": [mean_squared_error(y_test, X_test[column], squared=False) for column in X_test.columns]\n",
    "}).set_index(\"Model\").sort_values(\"RMSE\")\n",
    "rmse_df"
   ]
  },
  {
   "cell_type": "markdown",
   "metadata": {},
   "source": [
    "**Observation**: The RMSE of the individual models are above 9 on the test set, suggesting our ensemble model performs better on the test set with RMSE = 8.86."
   ]
  },
  {
   "cell_type": "markdown",
   "metadata": {},
   "source": [
    "## Part 2:"
   ]
  },
  {
   "cell_type": "markdown",
   "metadata": {},
   "source": [
    "### Preparation for deploying model next week"
   ]
  },
  {
   "cell_type": "markdown",
   "metadata": {},
   "source": [
    "***NOTE: Complete Question 4 (`Milestone3-task4.ipynb`) from the milestone 3 before coming here***"
   ]
  },
  {
   "cell_type": "markdown",
   "metadata": {},
   "source": [
    "We’ve found the best hyperparameter settings with MLlib (from the Question 4 from milestone3), here we then use the same hyperparameters to train a scikit-learn model. "
   ]
  },
  {
   "cell_type": "code",
   "execution_count": 16,
   "metadata": {
    "execution": {
     "iopub.execute_input": "2023-04-13T21:42:17.861594Z",
     "iopub.status.busy": "2023-04-13T21:42:17.861370Z",
     "iopub.status.idle": "2023-04-13T21:42:50.560632Z",
     "shell.execute_reply": "2023-04-13T21:42:50.559894Z",
     "shell.execute_reply.started": "2023-04-13T21:42:17.861573Z"
    },
    "tags": []
   },
   "outputs": [
    {
     "name": "stdout",
     "output_type": "stream",
     "text": [
      "CPU times: user 32.7 s, sys: 0 ns, total: 32.7 s\n",
      "Wall time: 32.7 s\n"
     ]
    },
    {
     "data": {
      "text/plain": [
       "RandomForestRegressor(max_depth=5, random_state=123)"
      ]
     },
     "execution_count": 16,
     "metadata": {},
     "output_type": "execute_result"
    }
   ],
   "source": [
    "%%time\n",
    "# Just replace ___ with the numbers you found from Milestone3-task4.ipynb\n",
    "model = RandomForestRegressor(n_estimators=100, max_depth=5, random_state=123)\n",
    "model.fit(X_train, y_train)"
   ]
  },
  {
   "cell_type": "code",
   "execution_count": 17,
   "metadata": {
    "execution": {
     "iopub.execute_input": "2023-04-13T21:42:50.640049Z",
     "iopub.status.busy": "2023-04-13T21:42:50.639736Z",
     "iopub.status.idle": "2023-04-13T21:42:50.761658Z",
     "shell.execute_reply": "2023-04-13T21:42:50.760922Z",
     "shell.execute_reply.started": "2023-04-13T21:42:50.640022Z"
    },
    "tags": []
   },
   "outputs": [
    {
     "name": "stdout",
     "output_type": "stream",
     "text": [
      "Train RMSE: 7.89\n",
      " Test RMSE: 8.66\n"
     ]
    }
   ],
   "source": [
    "print(\n",
    "    f\"Train RMSE: {mean_squared_error(y_train, model.predict(X_train), squared=False):.2f}\"\n",
    ")\n",
    "print(\n",
    "    f\" Test RMSE: {mean_squared_error(y_test, model.predict(X_test), squared=False):.2f}\"\n",
    ")"
   ]
  },
  {
   "cell_type": "code",
   "execution_count": null,
   "metadata": {
    "tags": []
   },
   "outputs": [],
   "source": [
    "# ready to deploy\n",
    "# where this model is saved? Understand the concept of relative path.\n",
    "dump(model, \"model.joblib\")"
   ]
  },
  {
   "cell_type": "markdown",
   "metadata": {},
   "source": [
    "***Upload model.joblib to s3 under output folder. You choose how you want to upload it (using CLI, SDK, or web console).*** Web console is also completely fine as it is a small file."
   ]
  }
 ],
 "metadata": {
  "kernelspec": {
   "display_name": "Python 3",
   "language": "python",
   "name": "python3"
  },
  "language_info": {
   "codemirror_mode": {
    "name": "ipython",
    "version": 3
   },
   "file_extension": ".py",
   "mimetype": "text/x-python",
   "name": "python",
   "nbconvert_exporter": "python",
   "pygments_lexer": "ipython3",
   "version": "3.7.13"
  },
  "vscode": {
   "interpreter": {
    "hash": "04169164d22e6c4be6191ef423ac86bcd59ab6849083682d987cca79592811e3"
   }
  }
 },
 "nbformat": 4,
 "nbformat_minor": 4
}
